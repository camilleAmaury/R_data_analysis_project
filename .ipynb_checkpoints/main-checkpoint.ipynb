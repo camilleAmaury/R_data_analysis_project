{
 "cells": [
  {
   "cell_type": "code",
   "execution_count": 202,
   "metadata": {
    "scrolled": true
   },
   "outputs": [],
   "source": [
    "M <- matrix(c(c(-2,-1,2,1),c(3,1,-1,-3),c(-1,0,-1,2)), nrow=4)"
   ]
  },
  {
   "cell_type": "code",
   "execution_count": 204,
   "metadata": {
    "scrolled": true
   },
   "outputs": [],
   "source": [
    "pca <- function(M, scale=TRUE, bias=FALSE, AxisNb){\n",
    "    # returned object :\n",
    "    base_result = list(\"base\"=M)\n",
    "    \n",
    "    # fonction qui calcule la matrice de covariance de la matrice initiale et renvoit toutes les étapes précédentes de calcul\n",
    "    covariance_matrix <- function(M){\n",
    "        # fonction qui retourne la matrice des données centrées et le centre de gravité de la matrice initiale\n",
    "        centered_matrix <- function(M){\n",
    "            # fonction qui calcule la matrice G, centre de gravité de la matrice passée en paramètre\n",
    "            gravity_center_matrix <- function(M){\n",
    "                moy_T <- colMeans(M, na.rm = FALSE, dims = 1)\n",
    "                M_moy_t <- t(matrix(rep(moy_T, dim(M)[1]), ncol = dim(M)[1]))\n",
    "                return(M_moy_t)\n",
    "            }\n",
    "            G <- gravity_center_matrix(M)\n",
    "            return(list(\"G\"=G, \"M_centered\"=M-G))\n",
    "        }\n",
    "        Mc <- centered_matrix(M)\n",
    "        M_temp <- t(Mc[[\"M_centered\"]]) %*% Mc[[\"M_centered\"]]\n",
    "        S_bias <- (1 / dim(M)[1]) * M_temp\n",
    "        S <- (1 / (dim(M)[1]-1)) * M_temp\n",
    "        return(append(Mc, list(\"S\"=S, \"S_bias\"=S_bias)))\n",
    "    }\n",
    "    base_result <- append(base_result, covariance_matrix(M))\n",
    "    # fonction de calcul de la matrice de correlation de la matrice initiale et renvoit toutes les étapes précédentes de calcul\n",
    "    correlation_matrix <- function(S, M_centered){\n",
    "        # fonction qui calcule la matrice diagonale des (1/écarts-type) des colonnes\n",
    "        diag_ecart_type <- function(S){\n",
    "            return(list(\"D1_div_sd\"= (1/sqrt(diag(S))) * diag(dim(S)[1])))\n",
    "        }\n",
    "        result <- diag_ecart_type(S)\n",
    "        \n",
    "        # fonction qui calcule la matrice centrée réduite\n",
    "        centered_reduced_matrix <- function(M_centered, D1_S){\n",
    "            return(list(\"M_scale\"= M_centered %*% D1_S))\n",
    "        }\n",
    "        result <- append(result, centered_reduced_matrix(M_centered, result[[\"D1_div_sd\"]]))\n",
    "        \n",
    "        # calcul de la matrice de correlation\n",
    "        R_temp <- t(result[[\"M_scale\"]]) %*% result[[\"M_scale\"]]\n",
    "        R <- (1 / dim(M)[1]) * R_temp\n",
    "        return(append(result, list(\"R\"=R)))\n",
    "    }\n",
    "    if(scale){\n",
    "        base_result <- append(base_result, correlation_matrix(base_result[[\"S_bias\"]], base_result[[\"M_centered\"]]))\n",
    "    }\n",
    "    if(bias){\n",
    "        base_result[[\"S\"]] <- base_result[[\"S_bias\"]]\n",
    "    }\n",
    "    base_result[[\"S_bias\"]] <- NULL\n",
    "    \n",
    "    # building PCA main component\n",
    "    pca_component <- list(\"Si\"=if(scale) base_result[[\"R\"]] else base_result[[\"S\"]])\n",
    "    eig <- eigen(pca_component[[\"Si\"]])\n",
    "    eig[[\"vectors\"]] <- round(eig[[\"vectors\"]], 6)\n",
    "    eig[[\"values\"]] <- round(eig[[\"values\"]], 6)\n",
    "    pca_component <- append(pca_component, eig)\n",
    "    # calculs des Fi et Gi\n",
    "    individuals_variables <- function(X, eigenValues, eigenVectors){\n",
    "        return(list(\"Fi\"=X%*%eigenVectors, \"Gi\"=sqrt(eigenValues)*eigenVectors))\n",
    "    }\n",
    "    pca_component <- append(pca_component, \n",
    "        individuals_variables((if(scale) base_result[[\"M_scale\"]] else base_result[\"M_centered\"]), \n",
    "            pca_component[[\"values\"]], pca_component[[\"vectors\"]])\n",
    "    )\n",
    "    li_res <- list(\"base_component\"=base_result, \"PCA_component\"=pca_component)\n",
    "    return(li_res)\n",
    "}\n",
    "                              \n",
    "# Base PCA\n",
    "base_pca <- function(X, Q, D, AxisNb){\n",
    "    li_res <- list(\"Si\"=t(X) %*% D %*% X %*% Q)\n",
    "    # Valeurs propres et vecteurs propres (axes principaux)\n",
    "    li_res <- append(li_res, eigen(li_res[[\"Si\"]]))\n",
    "    # Facteurs principaux Uk\n",
    "    li_res <- append(li_res, list(\"PrincipalFactors\"=Q%*%li_res$vectors))\n",
    "    # verification Q%*%S%*%Uk  = Lambdask %*% Uk\n",
    "}"
   ]
  },
  {
   "cell_type": "code",
   "execution_count": 216,
   "metadata": {
    "scrolled": false
   },
   "outputs": [
    {
     "ename": "ERROR",
     "evalue": "Error in parse(text = x, srcfile = src): <text>:30:73: ')' inattendu(e)\n29:         for(i in 1:(dim_ini-1)){\n30:             res <- householder_decomp(A[(1+i-1):dim_ini, (1+i-1):dim_ini)\n                                                                            ^\n",
     "output_type": "error",
     "traceback": [
      "Error in parse(text = x, srcfile = src): <text>:30:73: ')' inattendu(e)\n29:         for(i in 1:(dim_ini-1)){\n30:             res <- householder_decomp(A[(1+i-1):dim_ini, (1+i-1):dim_ini)\n                                                                            ^\nTraceback:\n"
     ]
    }
   ],
   "source": [
    "pca_res <- pca(M, bias=TRUE, scale=TRUE)\n",
    "qr_decomp <- function(A){\n",
    "    householder_decomp <- function(A){\n",
    "        signe_inv <- function(x, y){\n",
    "            return(if(x < 0) y else -y)\n",
    "        }\n",
    "        # x = colonne 1 de A\n",
    "        x <- A[,1]\n",
    "        # e = vecteur de taille x possédant des 0 sauf sur le premier élément un 1\n",
    "        e <- c(1, rep(0, length(x)-1))\n",
    "        # e = inverse du signe du premier élément de x * norme(x) * e\n",
    "        alpha <- signe_inv(x[1],e * sqrt(sum(x**2)))\n",
    "        # u = x + alpha\n",
    "        u <- x + alpha\n",
    "        # v = u / norme(u)\n",
    "        v <- u / sqrt(sum(u**2))\n",
    "        # Q = Identité - 2*v%*%t(v)\n",
    "        H <- diag(length(v)) - 2*v%*%t(v)\n",
    "        return(list(\"R\"=round(H%*%A,6), \"H\"=H))\n",
    "    }\n",
    "    dim_ini <- dim(A)[1]\n",
    "    H_cumul <- diag(dim_ini)\n",
    "    Q <- diag(dim_ini)\n",
    "    print(m)\n",
    "    R_final <- matrix(0, nrow=3, ncol=3)\n",
    "    for(j in 1:15){\n",
    "        H_cumul <- diag(dim_ini)\n",
    "        R_final <- matrix(0, nrow=dim_ini, ncol=dim_ini)\n",
    "        for(i in 1:(dim_ini-1)){\n",
    "            res <- householder_decomp(A[(1+i-1):dim_ini, (1+i-1):dim_ini])\n",
    "            A <- res[[\"R\"]]\n",
    "            H_temp <- diag(dim_ini) \n",
    "            H_temp[(1+i-1):dim_ini, (1+i-1):dim_ini] <- res[[\"H\"]]\n",
    "            H_cumul = H_temp %*% H_cumul \n",
    "            R_final[(1+i-1):dim_ini, (1+i-1):dim_ini] <- A\n",
    "        }\n",
    "        Q <- Q%*%t(H_cumul)\n",
    "        A <- round(R_final%*%t(H_cumul),7)\n",
    "    }\n",
    "    return(list(\"values\"=diag(round(A,5)), \"vectors\"=Q))\n",
    "}\n",
    "print(qr_decomp(pca_res$PCA_component$Si))\n",
    "print(pca_res$PCA_component$values)"
   ]
  },
  {
   "cell_type": "code",
   "execution_count": 3,
   "metadata": {
    "scrolled": true
   },
   "outputs": [],
   "source": [
    "inertia <- function(eigenvalues){\n",
    "  return(sum(eigenvalues))\n",
    "}\n",
    "\n",
    "cumulative_information_caught <- function(eigenvalues, num_axes = 2, percent = T){\n",
    "  return(sum(eigenvalues[1:num_axes])/inertia(eigenvalues)*((1-(percent*1))+(percent*1)*100))\n",
    "}\n",
    "\n",
    "information_caught <- function(eigenvalues, index_axe, percent = T){\n",
    "  return(eigen_values[index_axe]/inertia(eigenvalues)*((1-(percent*1))+(percent*1)*100))\n",
    "}"
   ]
  },
  {
   "cell_type": "code",
   "execution_count": 41,
   "metadata": {
    "scrolled": true
   },
   "outputs": [],
   "source": [
    "eigen_function <- function(M){\n",
    "    dimM = dim(M)[1]\n",
    "    eigen_values <- matrix(0, ncol=dimM)\n",
    "    eigen_vectors <- matrix(0, ncol=dimM, ncol=dimM)\n",
    "\n",
    "\n",
    "\n",
    "    for(i in 1:dimM){\n",
    "        eigen_vectors[i,] <- solve(M-eigen_values[i]*diag(dimM))%*%matrix(0, nrow=dimM)\n",
    "    }\n",
    "    return(list(\"eigen_values\"=M, \"eigen_vectors\"=eigen_vectors))\n",
    "}\n"
   ]
  },
  {
   "cell_type": "code",
   "execution_count": null,
   "metadata": {
    "scrolled": true
   },
   "outputs": [],
   "source": []
  }
 ],
 "metadata": {
  "kernelspec": {
   "display_name": "R",
   "language": "R",
   "name": "ir"
  },
  "language_info": {
   "codemirror_mode": "r",
   "file_extension": ".r",
   "mimetype": "text/x-r-source",
   "name": "R",
   "pygments_lexer": "r",
   "version": "3.6.1"
  }
 },
 "nbformat": 4,
 "nbformat_minor": 2
}
