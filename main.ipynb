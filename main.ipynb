{
 "cells": [
  {
   "cell_type": "code",
   "execution_count": 7,
   "metadata": {},
   "outputs": [],
   "source": [
    "M <- matrix(c(c(-2,-1,2,1),c(3,1,-1,-3),c(-1,0,-1,2)), nrow=4)"
   ]
  },
  {
   "cell_type": "code",
   "execution_count": 10,
   "metadata": {},
   "outputs": [],
   "source": [
    "pca <- function(M, scale=TRUE, bias=FALSE){\n",
    "    # returned object :\n",
    "    base_result = list(\"base\"=M)\n",
    "    \n",
    "    # fonction qui calcule la matrice de covariance de la matrice initiale et renvoit toutes les étapes précédentes de calcul\n",
    "    covariance_matrix <- function(M){\n",
    "        # fonction qui retourne la matrice des données centrées et le centre de gravité de la matrice initiale\n",
    "        centered_matrix <- function(M){\n",
    "            # fonction qui calcule la matrice G, centre de gravité de la matrice passée en paramètre\n",
    "            gravity_center_matrix <- function(M){\n",
    "                moy_T <- colMeans(M, na.rm = FALSE, dims = 1)\n",
    "                M_moy_t <- t(matrix(rep(moy_T, dim(M)[1]), ncol = dim(M)[1]))\n",
    "                return(M_moy_t)\n",
    "            }\n",
    "            G <- gravity_center_matrix(M)\n",
    "            return(list(\"G\"=G, \"M_centered\"=M-G))\n",
    "        }\n",
    "        Mc <- centered_matrix(M)\n",
    "        M_temp <- t(Mc[[\"M_centered\"]]) %*% Mc[[\"M_centered\"]]\n",
    "        S_bias <- (1 / dim(M)[1]) * M_temp\n",
    "        S <- (1 / (dim(M)[1]-1)) * M_temp\n",
    "        return(append(Mc, list(\"S\"=S, \"S_bias\"=S_bias)))\n",
    "    }\n",
    "    base_result <- append(base_result, covariance_matrix(M))\n",
    "    \n",
    "    # fonction de calcul de la matrice de correlation de la matrice initiale et renvoit toutes les étapes précédentes de calcul\n",
    "    correlation_matrix <- function(S, M_centered){\n",
    "        # fonction qui calcule la matrice diagonale des (1/écarts-type) des colonnes\n",
    "        diag_ecart_type <- function(S){\n",
    "            return(list(\"D1_div_sd\"= (1/sqrt(diag(S))) * diag(dim(S)[1])))\n",
    "        }\n",
    "        result <- diag_ecart_type(S)\n",
    "        \n",
    "        # fonction qui calcule la matrice centrée réduite\n",
    "        centered_reduced_matrix <- function(M_centered, D1_S){\n",
    "            return(list(\"M_scale\"= M_centered %*% D1_S))\n",
    "        }\n",
    "        result <- append(result, centered_reduced_matrix(M_centered, result[[\"D1_div_sd\"]]))\n",
    "        \n",
    "        # calcul de la matrice de correlation\n",
    "        R_temp <- t(result[[\"M_scale\"]]) %*% result[[\"M_scale\"]]\n",
    "        R <- (1 / dim(M)[1]) * R_temp\n",
    "        return(append(result, list(\"R\"=R)))\n",
    "    }\n",
    "    if(scale){\n",
    "        base_result <- append(base_result, correlation_matrix(base_result[[\"S_bias\"]], base_result[[\"M_centered\"]]))\n",
    "    }\n",
    "    if(bias){\n",
    "        base_result[[\"S\"]] <- base_result[[\"S_bias\"]]\n",
    "    }\n",
    "    base_result[[\"S_bias\"]] <- NULL\n",
    "    \n",
    "    # building PCA main component\n",
    "    pca_component <- list()\n",
    "    Si <- c()\n",
    "    if(scale){\n",
    "        Si <- R\n",
    "    }else{\n",
    "        Si <- base_result[[\"S\"]]\n",
    "\n",
    "    }\n",
    "    pca_component[[\"Si\"]] <- Si\n",
    "    \n",
    "    \n",
    "    return(base_result)\n",
    "}"
   ]
  },
  {
   "cell_type": "code",
   "execution_count": 12,
   "metadata": {},
   "outputs": [
    {
     "ename": "ERROR",
     "evalue": "Error in pca(M, bias = TRUE, scale = TRUE): objet 'R' introuvable\n",
     "output_type": "error",
     "traceback": [
      "Error in pca(M, bias = TRUE, scale = TRUE): objet 'R' introuvable\nTraceback:\n",
      "1. print(pca(M, bias = TRUE, scale = TRUE))",
      "2. pca(M, bias = TRUE, scale = TRUE)"
     ]
    }
   ],
   "source": [
    "print(pca(M, bias=TRUE, scale=TRUE))"
   ]
  },
  {
   "cell_type": "code",
   "execution_count": 7,
   "metadata": {},
   "outputs": [],
   "source": [
    "inertia <- function(eigenvalues){\n",
    "  return(sum(eigenvalues))\n",
    "}\n",
    "\n",
    "cumulative_information_caught <- function(eigenvalues, num_axes = 2, percent = T){\n",
    "  return(sum(eigenvalues[1:num_axes])/inertia(eigenvalues)*((1-(percent*1))+(percent*1)*100))\n",
    "}\n",
    "\n",
    "information_caught <- function(eigenvalues, index_axe, percent = T){\n",
    "  return(eigen_values[index_axe]/inertia(eigenvalues)*((1-(percent*1))+(percent*1)*100))\n",
    "}"
   ]
  },
  {
   "cell_type": "code",
   "execution_count": 13,
   "metadata": {},
   "outputs": [],
   "source": [
    "eigen_function <- function(M){\n",
    "    dimM = dim(M)[1]\n",
    "    eigen_values <- matrix(0, ncol=dimM)\n",
    "    eigen_vectors <- matrix(0, ncol=dimM, ncol=dimM)\n",
    "    \n",
    "    \n",
    "    \n",
    "    for(i in 1:dimM){\n",
    "        eigen_vectors[i,] <- solve(M-eigen_values[i]*diag(dimM))%*%matrix(0, nrow=dimM)\n",
    "    }\n",
    "    \n",
    "    return(list(\"eigen_values\"=M, \"eigen_vectors\"=eigen_vectors))\n",
    "} "
   ]
  },
  {
   "cell_type": "code",
   "execution_count": 21,
   "metadata": {},
   "outputs": [
    {
     "ename": "ERROR",
     "evalue": "Error in M - 2 * diag(3): tableaux de tailles inadéquates\n",
     "output_type": "error",
     "traceback": [
      "Error in M - 2 * diag(3): tableaux de tailles inadéquates\nTraceback:\n"
     ]
    }
   ],
   "source": []
  },
  {
   "cell_type": "code",
   "execution_count": null,
   "metadata": {},
   "outputs": [],
   "source": []
  }
 ],
 "metadata": {
  "kernelspec": {
   "display_name": "R",
   "language": "R",
   "name": "ir"
  },
  "language_info": {
   "codemirror_mode": "r",
   "file_extension": ".r",
   "mimetype": "text/x-r-source",
   "name": "R",
   "pygments_lexer": "r",
   "version": "3.6.1"
  }
 },
 "nbformat": 4,
 "nbformat_minor": 2
}
