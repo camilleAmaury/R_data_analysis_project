{
 "cells": [
  {
   "cell_type": "code",
   "execution_count": 1,
   "metadata": {},
   "outputs": [],
   "source": [
    "M <- matrix(c(c(-2,-1,2,1),c(3,1,-1,-3),c(-1,0,-1,2)), nrow=4)"
   ]
  },
  {
   "cell_type": "code",
   "execution_count": 2,
   "metadata": {},
   "outputs": [],
   "source": [
    "pca <- function(M, scale=TRUE, bias=FALSE){\n",
    "    # returned object :\n",
    "    base_result = list(\"base\"=M)\n",
    "    \n",
    "    # fonction qui calcule la matrice de covariance de la matrice initiale et renvoit toutes les étapes précédentes de calcul\n",
    "    covariance_matrix <- function(M){\n",
    "        # fonction qui retourne la matrice des données centrées et le centre de gravité de la matrice initiale\n",
    "        centered_matrix <- function(M){\n",
    "            # fonction qui calcule la matrice G, centre de gravité de la matrice passée en paramètre\n",
    "            gravity_center_matrix <- function(M){\n",
    "                moy_T <- colMeans(M, na.rm = FALSE, dims = 1)\n",
    "                M_moy_t <- t(matrix(rep(moy_T, dim(M)[1]), ncol = dim(M)[1]))\n",
    "                return(M_moy_t)\n",
    "            }\n",
    "            G <- gravity_center_matrix(M)\n",
    "            return(list(\"G\"=G, \"M_centered\"=M-G))\n",
    "        }\n",
    "        Mc <- centered_matrix(M)\n",
    "        M_temp <- t(Mc[[\"M_centered\"]]) %*% Mc[[\"M_centered\"]]\n",
    "        S_bias <- (1 / dim(M)[1]) * M_temp\n",
    "        S <- (1 / (dim(M)[1]-1)) * M_temp\n",
    "        return(append(Mc, list(\"S\"=S, \"S_bias\"=S_bias)))\n",
    "    }\n",
    "    base_result <- append(base_result, covariance_matrix(M))\n",
    "    # fonction de calcul de la matrice de correlation de la matrice initiale et renvoit toutes les étapes précédentes de calcul\n",
    "    correlation_matrix <- function(S, M_centered){\n",
    "        print(S)\n",
    "        # fonction qui calcule la matrice diagonale des (1/écarts-type) des colonnes\n",
    "        diag_ecart_type <- function(S){\n",
    "            return(list(\"D1_div_sd\"= (1/sqrt(diag(S))) * diag(dim(S)[1])))\n",
    "        }\n",
    "        result <- diag_ecart_type(S)\n",
    "        \n",
    "        # fonction qui calcule la matrice centrée réduite\n",
    "        centered_reduced_matrix <- function(M_centered, D1_S){\n",
    "            return(list(\"M_scale\"= M_centered %*% D1_S))\n",
    "        }\n",
    "        result <- append(result, centered_reduced_matrix(M_centered, result[[\"D1_div_sd\"]]))\n",
    "        \n",
    "        # calcul de la matrice de correlation\n",
    "        R_temp <- t(result[[\"M_scale\"]]) %*% result[[\"M_scale\"]]\n",
    "        R <- (1 / dim(M)[1]) * R_temp\n",
    "        return(append(result, list(\"R\"=R)))\n",
    "    }\n",
    "    if(scale){\n",
    "        base_result <- append(base_result, correlation_matrix(base_result[[\"S_bias\"]], base_result[[\"M_centered\"]]))\n",
    "    }\n",
    "    if(bias){\n",
    "        base_result[[\"S\"]] <- base_result[[\"S_bias\"]]\n",
    "    }\n",
    "    base_result[[\"S_bias\"]] <- NULL\n",
    "    \n",
    "    # building PCA main component\n",
    "    pca_component <- list()\n",
    "    Si <- c()\n",
    "    if(scale){\n",
    "        Si <- base_result[[\"R\"]]\n",
    "    }else{\n",
    "        Si <- base_result[[\"S\"]]\n",
    "    }\n",
    "    pca_component[[\"Si\"]] <- Si\n",
    "    \n",
    "    \n",
    "    \n",
    "    return(base_result)\n",
    "}"
   ]
  },
  {
   "cell_type": "code",
   "execution_count": 3,
   "metadata": {},
   "outputs": [
    {
     "name": "stdout",
     "output_type": "stream",
     "text": [
      "     [,1] [,2] [,3]\n",
      "[1,]  2.5   -3  0.5\n",
      "[2,] -3.0    5 -2.0\n",
      "[3,]  0.5   -2  1.5\n",
      "$base\n",
      "     [,1] [,2] [,3]\n",
      "[1,]   -2    3   -1\n",
      "[2,]   -1    1    0\n",
      "[3,]    2   -1   -1\n",
      "[4,]    1   -3    2\n",
      "\n",
      "$G\n",
      "     [,1] [,2] [,3]\n",
      "[1,]    0    0    0\n",
      "[2,]    0    0    0\n",
      "[3,]    0    0    0\n",
      "[4,]    0    0    0\n",
      "\n",
      "$M_centered\n",
      "     [,1] [,2] [,3]\n",
      "[1,]   -2    3   -1\n",
      "[2,]   -1    1    0\n",
      "[3,]    2   -1   -1\n",
      "[4,]    1   -3    2\n",
      "\n",
      "$S\n",
      "     [,1] [,2] [,3]\n",
      "[1,]  2.5   -3  0.5\n",
      "[2,] -3.0    5 -2.0\n",
      "[3,]  0.5   -2  1.5\n",
      "\n",
      "$D1_div_sd\n",
      "          [,1]      [,2]      [,3]\n",
      "[1,] 0.6324555 0.0000000 0.0000000\n",
      "[2,] 0.0000000 0.4472136 0.0000000\n",
      "[3,] 0.0000000 0.0000000 0.8164966\n",
      "\n",
      "$M_scale\n",
      "           [,1]       [,2]       [,3]\n",
      "[1,] -1.2649111  1.3416408 -0.8164966\n",
      "[2,] -0.6324555  0.4472136  0.0000000\n",
      "[3,]  1.2649111 -0.4472136 -0.8164966\n",
      "[4,]  0.6324555 -1.3416408  1.6329932\n",
      "\n",
      "$R\n",
      "           [,1]       [,2]       [,3]\n",
      "[1,]  1.0000000 -0.8485281  0.2581989\n",
      "[2,] -0.8485281  1.0000000 -0.7302967\n",
      "[3,]  0.2581989 -0.7302967  1.0000000\n",
      "\n"
     ]
    }
   ],
   "source": [
    "print(pca(M, bias=TRUE, scale=TRUE))"
   ]
  },
  {
   "cell_type": "code",
   "execution_count": 4,
   "metadata": {},
   "outputs": [],
   "source": [
    "inertia <- function(eigenvalues){\n",
    "  return(sum(eigenvalues))\n",
    "}\n",
    "\n",
    "cumulative_information_caught <- function(eigenvalues, num_axes = 2, percent = T){\n",
    "  return(sum(eigenvalues[1:num_axes])/inertia(eigenvalues)*((1-(percent*1))+(percent*1)*100))\n",
    "}\n",
    "\n",
    "information_caught <- function(eigenvalues, index_axe, percent = T){\n",
    "  return(eigen_values[index_axe]/inertia(eigenvalues)*((1-(percent*1))+(percent*1)*100))\n",
    "}"
   ]
  },
  {
   "cell_type": "code",
   "execution_count": 126,
   "metadata": {},
   "outputs": [],
   "source": [
    "norm <- function(v){\n",
    "    return(sqrt(sum(v**2)))\n",
    "}\n",
    "\n",
    "eigen_function_hh <- function(M){\n",
    "    QRDecompHH <- function(A){\n",
    "        T <- A\n",
    "        I <- diag(dim(A)[1])\n",
    "        \n",
    "        vi <- t(A[,1]) - sign(A[1,1])*norm(A[,1])*I[,1]\n",
    "\n",
    "        \n",
    "        hi <- I-(t(vi)%*%vi)*matrix(rep(2/vi%*%t(vi), dim(A)[1]*dim(A)[1]), nrow=dim(A)[1], ncol=dim(A)[1])\n",
    "\n",
    "        \n",
    "        his <- list(hi)\n",
    "        Ak <- hi%*%A\n",
    "        for(i in 2:dim(Ak)[1]){\n",
    "            if(dim(A)[1] > 2){\n",
    "                A <- Ak[2:dim(Ak)[1], 2:dim(Ak)[2]]\n",
    "                #print(A)\n",
    "                I <- diag(dim(A)[1])\n",
    "\n",
    "                vi <- t(A[,1]) - sign(A[i,i])*norm(A[,1])*I[,1]\n",
    "                #print(vi)\n",
    "\n",
    "                hi <- I-(t(vi)%*%vi)*matrix(rep(2/vi%*%t(vi), dim(A)[1]*dim(A)[1]), nrow=dim(A)[1], ncol=dim(A)[1])\n",
    "                #print(hi)\n",
    "\n",
    "                his[[i]] <- hi\n",
    "                Ak <- hi%*%A\n",
    "                #print(Ak)\n",
    "            }\n",
    "        }\n",
    "        \n",
    "        Q <- diag(dim(T)[1])\n",
    "        R <- diag(dim(T)[1])\n",
    "        for(i in 1:length(his)){\n",
    "            I = diag(dim(T)[1])\n",
    "\n",
    "            c <- his[[i]]\n",
    "            I[(dim(I)[1]-dim(c)[1]+1):dim(I)[1], (dim(I)[1]-dim(c)[1]+1):dim(I)[1]] <- c\n",
    "            his[[i]] <- I\n",
    "            Q <- Q%*%I\n",
    "\n",
    "        }\n",
    "        \n",
    "        \n",
    "        for(i in 1:length(his)){\n",
    "            R <- R%*%his[[dim(T)[1]-i]]\n",
    "        }\n",
    "        return(list(R%*%T, Q))\n",
    "    }\n",
    "    \n",
    "    eigen_v <- function(A, accuracy){\n",
    "        Ao <- A\n",
    "        Uo <- diag(dim(A)[1])\n",
    "        for(i in 1:accuracy){\n",
    "            Akk <- QRDecompHH(Ao)\n",
    "            Ao <- Akk[[1]]%*%Akk[[2]]\n",
    "            Uo <- Uo%*%Akk[[2]]\n",
    "        }\n",
    "        return(list(Uo, Ao))\n",
    "    }\n",
    "    \n",
    "    dimM = dim(M)[1]\n",
    "    eigen_v_ret <- eigen_v(M, 100)\n",
    "\n",
    "\n",
    "    return(list(\"eigen_values\"=diag(eigen_v_ret[[2]]), \"eigen_vectors\"=eigen_v_ret[[1]]))\n",
    "}"
   ]
  },
  {
   "cell_type": "code",
   "execution_count": 130,
   "metadata": {},
   "outputs": [
    {
     "data": {
      "text/html": [
       "<table>\n",
       "<tbody>\n",
       "\t<tr><td>1</td><td>2</td><td>3</td></tr>\n",
       "\t<tr><td>2</td><td>4</td><td>2</td></tr>\n",
       "\t<tr><td>3</td><td>2</td><td>1</td></tr>\n",
       "</tbody>\n",
       "</table>\n"
      ],
      "text/latex": [
       "\\begin{tabular}{lll}\n",
       "\t 1 & 2 & 3\\\\\n",
       "\t 2 & 4 & 2\\\\\n",
       "\t 3 & 2 & 1\\\\\n",
       "\\end{tabular}\n"
      ],
      "text/markdown": [
       "\n",
       "| 1 | 2 | 3 |\n",
       "| 2 | 4 | 2 |\n",
       "| 3 | 2 | 1 |\n",
       "\n"
      ],
      "text/plain": [
       "     [,1] [,2] [,3]\n",
       "[1,] 1    2    3   \n",
       "[2,] 2    4    2   \n",
       "[3,] 3    2    1   "
      ]
     },
     "metadata": {},
     "output_type": "display_data"
    },
    {
     "name": "stdout",
     "output_type": "stream",
     "text": [
      "[[1]]\n",
      "          [,1]          [,2]       [,3]\n",
      "[1,] 0.5000000 -7.071068e-01  0.5000000\n",
      "[2,] 0.7071068 -8.931017e-10 -0.7071068\n",
      "[3,] 0.5000000  7.071068e-01  0.5000000\n",
      "\n",
      "[[2]]\n",
      "              [,1]          [,2]          [,3]\n",
      "[1,]  6.828427e+00 -1.114902e-08 -7.289442e-12\n",
      "[2,] -1.114902e-08 -2.000000e+00  5.766347e-13\n",
      "[3,] -7.289965e-12  5.770261e-13  1.171573e+00\n",
      "\n"
     ]
    },
    {
     "ename": "ERROR",
     "evalue": "Error in eigen_function(A): objet 'eigen_values' introuvable\n",
     "output_type": "error",
     "traceback": [
      "Error in eigen_function(A): objet 'eigen_values' introuvable\nTraceback:\n",
      "1. eigen_function(A)"
     ]
    }
   ],
   "source": [
    "A <- matrix(c(1,2,3,2,4,2,3,2,1), ncol=3, nrow=3, byrow=T)\n",
    "\n",
    "A\n",
    "e = eigen_function(A)\n",
    "sum(A)"
   ]
  },
  {
   "cell_type": "code",
   "execution_count": 131,
   "metadata": {},
   "outputs": [
    {
     "data": {
      "text/plain": [
       "eigen() decomposition\n",
       "$values\n",
       "[1]  6.828427  1.171573 -2.000000\n",
       "\n",
       "$vectors\n",
       "           [,1]       [,2]          [,3]\n",
       "[1,] -0.5000000  0.5000000  7.071068e-01\n",
       "[2,] -0.7071068 -0.7071068 -1.554312e-15\n",
       "[3,] -0.5000000  0.5000000 -7.071068e-01\n"
      ]
     },
     "metadata": {},
     "output_type": "display_data"
    }
   ],
   "source": [
    "eigen(A)"
   ]
  },
  {
   "cell_type": "code",
   "execution_count": 69,
   "metadata": {},
   "outputs": [
    {
     "data": {
      "text/html": [
       "<table>\n",
       "<tbody>\n",
       "\t<tr><td>-0.9093767</td></tr>\n",
       "</tbody>\n",
       "</table>\n"
      ],
      "text/latex": [
       "\\begin{tabular}{l}\n",
       "\t -0.9093767\\\\\n",
       "\\end{tabular}\n"
      ],
      "text/markdown": [
       "\n",
       "| -0.9093767 |\n",
       "\n"
      ],
      "text/plain": [
       "     [,1]      \n",
       "[1,] -0.9093767"
      ]
     },
     "metadata": {},
     "output_type": "display_data"
    }
   ],
   "source": [
    "t = A-e$eigen_values[2]*diag(2)\n",
    "t[2,]%*%e$eigen_vectors[,2]"
   ]
  },
  {
   "cell_type": "code",
   "execution_count": 40,
   "metadata": {},
   "outputs": [
    {
     "data": {
      "text/html": [
       "<table>\n",
       "<tbody>\n",
       "\t<tr><td>1</td><td>0</td><td>0</td></tr>\n",
       "\t<tr><td>0</td><td>1</td><td>0</td></tr>\n",
       "\t<tr><td>0</td><td>0</td><td>1</td></tr>\n",
       "</tbody>\n",
       "</table>\n"
      ],
      "text/latex": [
       "\\begin{tabular}{lll}\n",
       "\t 1 & 0 & 0\\\\\n",
       "\t 0 & 1 & 0\\\\\n",
       "\t 0 & 0 & 1\\\\\n",
       "\\end{tabular}\n"
      ],
      "text/markdown": [
       "\n",
       "| 1 | 0 | 0 |\n",
       "| 0 | 1 | 0 |\n",
       "| 0 | 0 | 1 |\n",
       "\n"
      ],
      "text/plain": [
       "     [,1] [,2] [,3]\n",
       "[1,] 1    0    0   \n",
       "[2,] 0    1    0   \n",
       "[3,] 0    0    1   "
      ]
     },
     "metadata": {},
     "output_type": "display_data"
    }
   ],
   "source": [
    "I <- diag(3)\n",
    "I"
   ]
  },
  {
   "cell_type": "code",
   "execution_count": 41,
   "metadata": {},
   "outputs": [
    {
     "data": {
      "text/html": [
       "<table>\n",
       "<tbody>\n",
       "\t<tr><td>1</td><td>3</td></tr>\n",
       "\t<tr><td>2</td><td>4</td></tr>\n",
       "</tbody>\n",
       "</table>\n"
      ],
      "text/latex": [
       "\\begin{tabular}{ll}\n",
       "\t 1 & 3\\\\\n",
       "\t 2 & 4\\\\\n",
       "\\end{tabular}\n"
      ],
      "text/markdown": [
       "\n",
       "| 1 | 3 |\n",
       "| 2 | 4 |\n",
       "\n"
      ],
      "text/plain": [
       "     [,1] [,2]\n",
       "[1,] 1    3   \n",
       "[2,] 2    4   "
      ]
     },
     "metadata": {},
     "output_type": "display_data"
    }
   ],
   "source": [
    "c <- matrix(c(1,2,3,4), nrow = 2, ncol = 2)\n",
    "c"
   ]
  },
  {
   "cell_type": "code",
   "execution_count": 43,
   "metadata": {},
   "outputs": [],
   "source": [
    "I[(dim(I)[1]-dim(c)[1]+1):dim(I)[1], (dim(I)[1]-dim(c)[1]+1):dim(I)[1]] <- c"
   ]
  },
  {
   "cell_type": "code",
   "execution_count": 44,
   "metadata": {},
   "outputs": [
    {
     "data": {
      "text/html": [
       "<table>\n",
       "<tbody>\n",
       "\t<tr><td>1</td><td>0</td><td>0</td></tr>\n",
       "\t<tr><td>0</td><td>1</td><td>3</td></tr>\n",
       "\t<tr><td>0</td><td>2</td><td>4</td></tr>\n",
       "</tbody>\n",
       "</table>\n"
      ],
      "text/latex": [
       "\\begin{tabular}{lll}\n",
       "\t 1 & 0 & 0\\\\\n",
       "\t 0 & 1 & 3\\\\\n",
       "\t 0 & 2 & 4\\\\\n",
       "\\end{tabular}\n"
      ],
      "text/markdown": [
       "\n",
       "| 1 | 0 | 0 |\n",
       "| 0 | 1 | 3 |\n",
       "| 0 | 2 | 4 |\n",
       "\n"
      ],
      "text/plain": [
       "     [,1] [,2] [,3]\n",
       "[1,] 1    0    0   \n",
       "[2,] 0    1    3   \n",
       "[3,] 0    2    4   "
      ]
     },
     "metadata": {},
     "output_type": "display_data"
    }
   ],
   "source": [
    "I"
   ]
  },
  {
   "cell_type": "code",
   "execution_count": 45,
   "metadata": {},
   "outputs": [
    {
     "data": {
      "text/html": [
       "2"
      ],
      "text/latex": [
       "2"
      ],
      "text/markdown": [
       "2"
      ],
      "text/plain": [
       "[1] 2"
      ]
     },
     "metadata": {},
     "output_type": "display_data"
    }
   ],
   "source": [
    "dim(I)[1]-dim(c)[1]+1"
   ]
  },
  {
   "cell_type": "code",
   "execution_count": null,
   "metadata": {},
   "outputs": [],
   "source": []
  }
 ],
 "metadata": {
  "kernelspec": {
   "display_name": "R",
   "language": "R",
   "name": "ir"
  },
  "language_info": {
   "codemirror_mode": "r",
   "file_extension": ".r",
   "mimetype": "text/x-r-source",
   "name": "R",
   "pygments_lexer": "r",
   "version": "3.6.1"
  }
 },
 "nbformat": 4,
 "nbformat_minor": 2
}
