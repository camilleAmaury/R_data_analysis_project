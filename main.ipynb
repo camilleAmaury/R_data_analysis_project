{
 "cells": [
  {
   "cell_type": "code",
   "execution_count": 58,
   "metadata": {},
   "outputs": [
    {
     "name": "stdout",
     "output_type": "stream",
     "text": [
      "       [,1]   [,2] [,3]\n",
      "[1,] -3.737  0.186    0\n",
      "[2,] -1.312  0.529    0\n",
      "[3,]  1.510 -1.929    0\n",
      "[4,]  3.539  1.215    0\n",
      "       [,1]   [,2]  [,3]\n",
      "[1,]  1.604 -2.050 1.841\n",
      "[2,] -1.096 -0.155 0.782\n",
      "[3,]  0.000  0.000 0.000\n",
      "[1] 10.163  1.837  0.000\n",
      "[1] 10.163  1.837  0.000\n"
     ]
    }
   ],
   "source": [
    "M <- matrix(c(c(-2,-1,2,1),c(3,1,-1,-3),c(-1,0,-1,2)), nrow=4)"
   ]
  },
  {
   "cell_type": "code",
   "execution_count": 81,
   "metadata": {},
   "outputs": [],
   "source": [
    "pca <- function(M, scale=TRUE, bias=FALSE, AxisNb){\n",
    "    # returned object :\n",
    "    base_result = list(\"base\"=M)\n",
    "    \n",
    "    # fonction qui calcule la matrice de covariance de la matrice initiale et renvoit toutes les étapes précédentes de calcul\n",
    "    covariance_matrix <- function(M){\n",
    "        # fonction qui retourne la matrice des données centrées et le centre de gravité de la matrice initiale\n",
    "        centered_matrix <- function(M){\n",
    "            # fonction qui calcule la matrice G, centre de gravité de la matrice passée en paramètre\n",
    "            gravity_center_matrix <- function(M){\n",
    "                moy_T <- colMeans(M, na.rm = FALSE, dims = 1)\n",
    "                M_moy_t <- t(matrix(rep(moy_T, dim(M)[1]), ncol = dim(M)[1]))\n",
    "                return(M_moy_t)\n",
    "            }\n",
    "            G <- gravity_center_matrix(M)\n",
    "            return(list(\"G\"=G, \"M_centered\"=M-G))\n",
    "        }\n",
    "        Mc <- centered_matrix(M)\n",
    "        M_temp <- t(Mc[[\"M_centered\"]]) %*% Mc[[\"M_centered\"]]\n",
    "        S_bias <- (1 / dim(M)[1]) * M_temp\n",
    "        S <- (1 / (dim(M)[1]-1)) * M_temp\n",
    "        return(append(Mc, list(\"S\"=S, \"S_bias\"=S_bias)))\n",
    "    }\n",
    "    base_result <- append(base_result, covariance_matrix(M))\n",
    "    # fonction de calcul de la matrice de correlation de la matrice initiale et renvoit toutes les étapes précédentes de calcul\n",
    "    correlation_matrix <- function(S, M_centered){\n",
    "        # fonction qui calcule la matrice diagonale des (1/écarts-type) des colonnes\n",
    "        diag_ecart_type <- function(S){\n",
    "            return(list(\"D1_div_sd\"= (1/sqrt(diag(S))) * diag(dim(S)[1])))\n",
    "        }\n",
    "        result <- diag_ecart_type(S)\n",
    "        \n",
    "        # fonction qui calcule la matrice centrée réduite\n",
    "        centered_reduced_matrix <- function(M_centered, D1_S){\n",
    "            return(list(\"M_scale\"= M_centered %*% D1_S))\n",
    "        }\n",
    "        result <- append(result, centered_reduced_matrix(M_centered, result[[\"D1_div_sd\"]]))\n",
    "        \n",
    "        # calcul de la matrice de correlation\n",
    "        R_temp <- t(result[[\"M_scale\"]]) %*% result[[\"M_scale\"]]\n",
    "        R <- (1 / dim(M)[1]) * R_temp\n",
    "        return(append(result, list(\"R\"=R)))\n",
    "    }\n",
    "    if(scale){\n",
    "        base_result <- append(base_result, correlation_matrix(base_result[[\"S_bias\"]], base_result[[\"M_centered\"]]))\n",
    "    }\n",
    "    if(bias){\n",
    "        base_result[[\"S\"]] <- base_result[[\"S_bias\"]]\n",
    "    }\n",
    "    base_result[[\"S_bias\"]] <- NULL\n",
    "    \n",
    "    # building PCA main component\n",
    "    pca_component <- list(\"Si\"=if(scale) base_result[[\"R\"]] else base_result[[\"S\"]])\n",
    "    eig <- eigen(pca_component[[\"Si\"]])\n",
    "    eig[[\"vectors\"]] <- round(eig[[\"vectors\"]], 6)\n",
    "    eig[[\"values\"]] <- round(eig[[\"values\"]], 6)\n",
    "    pca_component <- append(pca_component, eig)\n",
    "    # calculs des Fi et Gi\n",
    "    individuals_variables <- function(X, eigenValues, eigenVectors){\n",
    "        return(list(\"Fi\"=X%*%eigenVectors, \"Gi\"=sqrt(eigenValues)*eigenVectors))\n",
    "    }\n",
    "    pca_component <- append(pca_component, \n",
    "        individuals_variables((if(scale) base_result[[\"M_scale\"]] else base_result[\"M_centered\"]), \n",
    "            pca_component[[\"values\"]], pca_component[[\"vectors\"]])\n",
    "    )\n",
    "    li_res <- list(\"base_component\"=base_result, \"PCA_component\"=pca_component)\n",
    "    return(li_res)\n",
    "}\n",
    "                              \n",
    "# Base PCA\n",
    "base_pca <- function(X, Q, D, AxisNb){\n",
    "    # t(𝐗)𝐃𝐗𝐐 = 𝐒𝐐 = Si\n",
    "    li_res <- list(\"Si\"=t(X) %*% D %*% X %*% Q)\n",
    "    # Valeurs propres et vecteurs propres (axes principaux)\n",
    "    li_res <- append(li_res, eigen(li_res[[\"Si\"]]))\n",
    "    # Facteurs principaux Uk\n",
    "    li_res <- append(li_res, list(\"PrincipalFactors\"=Q%*%li_res$vectors))\n",
    "    # verification Q%*%S%*%Uk  = Lambdask %*% Uk\n",
    "}"
   ]
  },
  {
   "cell_type": "code",
   "execution_count": 5,
   "metadata": {},
   "outputs": [
    {
     "ename": "ERROR",
     "evalue": "Error in norm(A[, i]): 'A' doit être une matrice numérique\n",
     "output_type": "error",
     "traceback": [
      "Error in norm(A[, i]): 'A' doit être une matrice numérique\nTraceback:\n",
      "1. print(qr_decomp(m))",
      "2. qr_decomp(m)",
      "3. norm(A[, i])   # at line 6 of file <text>"
     ]
    }
   ],
   "source": [
    "#print(pca(M, bias=TRUE, scale=TRUE))\n",
    "\n",
    "qr_decomp <- function(A){\n",
    "    Q <- matrix(0, dim(A)[1], dim(A)[2])\n",
    "    for(i in 1:dim(A)[2]){\n",
    "        Q[,i] <- (1/norm(A[,i])) %*% A[,i]\n",
    "    }\n",
    "    print(Q)\n",
    "}\n",
    "\n",
    "m <- matrix(c(1,3,2,4), nrow=2)\n",
    "\n",
    "print(qr_decomp(m))"
   ]
  },
  {
   "cell_type": "code",
   "execution_count": 3,
   "metadata": {},
   "outputs": [],
   "source": [
    "inertia <- function(eigenvalues){\n",
    "  return(sum(eigenvalues))\n",
    "}\n",
    "\n",
    "cumulative_information_caught <- function(eigenvalues, num_axes = 2, percent = T){\n",
    "  return(sum(eigenvalues[1:num_axes])/inertia(eigenvalues)*((1-(percent*1))+(percent*1)*100))\n",
    "}\n",
    "\n",
    "information_caught <- function(eigenvalues, index_axe, percent = T){\n",
    "  return(eigen_values[index_axe]/inertia(eigenvalues)*((1-(percent*1))+(percent*1)*100))\n",
    "}"
   ]
  },
  {
   "cell_type": "code",
   "execution_count": 41,
   "metadata": {},
   "outputs": [],
   "source": [
    "eigen_function <- function(M){\n",
    "    dimM = dim(M)[1]\n",
    "    eigen_values <- matrix(0, ncol=dimM)\n",
    "    eigen_vectors <- matrix(0, ncol=dimM, ncol=dimM)\n",
    "\n",
    "\n",
    "\n",
    "    for(i in 1:dimM){\n",
    "        eigen_vectors[i,] <- solve(M-eigen_values[i]*diag(dimM))%*%matrix(0, nrow=dimM)\n",
    "    }\n",
    "    return(list(\"eigen_values\"=M, \"eigen_vectors\"=eigen_vectors))\n",
    "}\n"
   ]
  },
  {
   "cell_type": "code",
   "execution_count": null,
   "metadata": {},
   "outputs": [],
   "source": []
  }
 ],
 "metadata": {
  "kernelspec": {
   "display_name": "R",
   "language": "R",
   "name": "ir"
  },
  "language_info": {
   "codemirror_mode": "r",
   "file_extension": ".r",
   "mimetype": "text/x-r-source",
   "name": "R",
   "pygments_lexer": "r",
   "version": "3.6.1"
  }
 },
 "nbformat": 4,
 "nbformat_minor": 2
}
