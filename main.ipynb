{
 "cells": [
  {
   "cell_type": "code",
   "execution_count": 2,
   "metadata": {},
   "outputs": [],
   "source": [
    "M <- matrix(c(c(-2,-1,2,1),c(3,1,-1,-3),c(-1,0,-1,2)), nrow=4)"
   ]
  },
  {
   "cell_type": "code",
   "execution_count": 3,
   "metadata": {},
   "outputs": [],
   "source": [
    "pca <- function(M, scale=TRUE, bias=FALSE){\n",
    "    # returned object :\n",
    "    base_result = list(\"base\"=M)\n",
    "    \n",
    "    # fonction qui calcule la matrice de covariance de la matrice initiale et renvoit toutes les étapes précédentes de calcul\n",
    "    covariance_matrix <- function(M){\n",
    "        # fonction qui retourne la matrice des données centrées et le centre de gravité de la matrice initiale\n",
    "        centered_matrix <- function(M){\n",
    "            # fonction qui calcule la matrice G, centre de gravité de la matrice passée en paramètre\n",
    "            gravity_center_matrix <- function(M){\n",
    "                moy_T <- colMeans(M, na.rm = FALSE, dims = 1)\n",
    "                M_moy_t <- t(matrix(rep(moy_T, dim(M)[1]), ncol = dim(M)[1]))\n",
    "                return(M_moy_t)\n",
    "            }\n",
    "            G <- gravity_center_matrix(M)\n",
    "            return(list(\"G\"=G, \"M_centered\"=M-G))\n",
    "        }\n",
    "        Mc <- centered_matrix(M)\n",
    "        M_temp <- t(Mc[[\"M_centered\"]]) %*% Mc[[\"M_centered\"]]\n",
    "        S_bias <- (1 / dim(M)[1]) * M_temp\n",
    "        S <- (1 / (dim(M)[1]-1)) * M_temp\n",
    "        return(append(Mc, list(\"S\"=S, \"S_bias\"=S_bias)))\n",
    "    }\n",
    "    base_result <- append(base_result, covariance_matrix(M))\n",
    "    # fonction de calcul de la matrice de correlation de la matrice initiale et renvoit toutes les étapes précédentes de calcul\n",
    "    correlation_matrix <- function(S, M_centered){\n",
    "        print(S)\n",
    "        # fonction qui calcule la matrice diagonale des (1/écarts-type) des colonnes\n",
    "        diag_ecart_type <- function(S){\n",
    "            return(list(\"D1_div_sd\"= (1/sqrt(diag(S))) * diag(dim(S)[1])))\n",
    "        }\n",
    "        result <- diag_ecart_type(S)\n",
    "        \n",
    "        # fonction qui calcule la matrice centrée réduite\n",
    "        centered_reduced_matrix <- function(M_centered, D1_S){\n",
    "            return(list(\"M_scale\"= M_centered %*% D1_S))\n",
    "        }\n",
    "        result <- append(result, centered_reduced_matrix(M_centered, result[[\"D1_div_sd\"]]))\n",
    "        \n",
    "        # calcul de la matrice de correlation\n",
    "        R_temp <- t(result[[\"M_scale\"]]) %*% result[[\"M_scale\"]]\n",
    "        R <- (1 / dim(M)[1]) * R_temp\n",
    "        return(append(result, list(\"R\"=R)))\n",
    "    }\n",
    "    if(scale){\n",
    "        base_result <- append(base_result, correlation_matrix(base_result[[\"S_bias\"]], base_result[[\"M_centered\"]]))\n",
    "    }\n",
    "    if(bias){\n",
    "        base_result[[\"S\"]] <- base_result[[\"S_bias\"]]\n",
    "    }\n",
    "    base_result[[\"S_bias\"]] <- NULL\n",
    "    \n",
    "    # building PCA main component\n",
    "    pca_component <- list()\n",
    "    Si <- c()\n",
    "    if(scale){\n",
    "        Si <- base_result[[\"R\"]]\n",
    "    }else{\n",
    "        Si <- base_result[[\"S\"]]\n",
    "    }\n",
    "    pca_component[[\"Si\"]] <- Si\n",
    "    \n",
    "    \n",
    "    \n",
    "    return(base_result)\n",
    "}"
   ]
  },
  {
   "cell_type": "code",
   "execution_count": 4,
   "metadata": {},
   "outputs": [
    {
     "name": "stdout",
     "output_type": "stream",
     "text": [
      "     [,1] [,2] [,3]\n",
      "[1,]  2.5   -3  0.5\n",
      "[2,] -3.0    5 -2.0\n",
      "[3,]  0.5   -2  1.5\n",
      "$base\n",
      "     [,1] [,2] [,3]\n",
      "[1,]   -2    3   -1\n",
      "[2,]   -1    1    0\n",
      "[3,]    2   -1   -1\n",
      "[4,]    1   -3    2\n",
      "\n",
      "$G\n",
      "     [,1] [,2] [,3]\n",
      "[1,]    0    0    0\n",
      "[2,]    0    0    0\n",
      "[3,]    0    0    0\n",
      "[4,]    0    0    0\n",
      "\n",
      "$M_centered\n",
      "     [,1] [,2] [,3]\n",
      "[1,]   -2    3   -1\n",
      "[2,]   -1    1    0\n",
      "[3,]    2   -1   -1\n",
      "[4,]    1   -3    2\n",
      "\n",
      "$S\n",
      "     [,1] [,2] [,3]\n",
      "[1,]  2.5   -3  0.5\n",
      "[2,] -3.0    5 -2.0\n",
      "[3,]  0.5   -2  1.5\n",
      "\n",
      "$D1_div_sd\n",
      "          [,1]      [,2]      [,3]\n",
      "[1,] 0.6324555 0.0000000 0.0000000\n",
      "[2,] 0.0000000 0.4472136 0.0000000\n",
      "[3,] 0.0000000 0.0000000 0.8164966\n",
      "\n",
      "$M_scale\n",
      "           [,1]       [,2]       [,3]\n",
      "[1,] -1.2649111  1.3416408 -0.8164966\n",
      "[2,] -0.6324555  0.4472136  0.0000000\n",
      "[3,]  1.2649111 -0.4472136 -0.8164966\n",
      "[4,]  0.6324555 -1.3416408  1.6329932\n",
      "\n",
      "$R\n",
      "           [,1]       [,2]       [,3]\n",
      "[1,]  1.0000000 -0.8485281  0.2581989\n",
      "[2,] -0.8485281  1.0000000 -0.7302967\n",
      "[3,]  0.2581989 -0.7302967  1.0000000\n",
      "\n"
     ]
    }
   ],
   "source": [
    "print(pca(M, bias=TRUE, scale=TRUE))"
   ]
  },
  {
   "cell_type": "code",
   "execution_count": 5,
   "metadata": {},
   "outputs": [],
   "source": [
    "inertia <- function(eigenvalues){\n",
    "  return(sum(eigenvalues))\n",
    "}\n",
    "\n",
    "cumulative_information_caught <- function(eigenvalues, num_axes = 2, percent = T){\n",
    "  return(sum(eigenvalues[1:num_axes])/inertia(eigenvalues)*((1-(percent*1))+(percent*1)*100))\n",
    "}\n",
    "\n",
    "information_caught <- function(eigenvalues, index_axe, percent = T){\n",
    "  return(eigen_values[index_axe]/inertia(eigenvalues)*((1-(percent*1))+(percent*1)*100))\n",
    "}"
   ]
  },
  {
   "cell_type": "code",
   "execution_count": 74,
   "metadata": {},
   "outputs": [],
   "source": [
    "norm <- function(v){\n",
    "    return(sqrt(sum(v**2)))\n",
    "}\n",
    "\n",
    "eigen_function <- function(M){\n",
    "    QRDecomp <- function(A){\n",
    "        R <- matrix(rep(0), ncol=dim(A)[1], nrow=dim(A)[1])\n",
    "        Q <- matrix(rep(0), ncol=dim(A)[1], nrow=dim(A)[1])\n",
    "\n",
    "        nv1 <- norm(t(A[,1]))\n",
    "        u1 <- t(A[,1])/nv1\n",
    "\n",
    "        R[1,1] <- nv1\n",
    "        Q[,1] <- t(u1)\n",
    "\n",
    "        for(i in 2:dim(A)[1]){\n",
    "            vit <- t(A[,i])\n",
    "            for(j in 1:(i-1)){\n",
    "                prod <- Q[,j]%*%A[,i]\n",
    "                vit <- vit - prod%*%Q[,j]\n",
    "                R[i,j] <- prod\n",
    "            }\n",
    "\n",
    "            nvi <- norm(vit)\n",
    "            ui <- vit/nvi\n",
    "            R[i,i] <- nvi\n",
    "            Q[,i] <- ui\n",
    "        }\n",
    "        return(list(Q, t(R)))\n",
    "    }\n",
    "    \n",
    "    eigen_v <- function(A, accuracy){\n",
    "        QR <- QRDecomp(A)\n",
    "        Q <- QR[[1]]\n",
    "        A <- QR[[2]]%*%QR[[1]]\n",
    "        if(accuracy > 1){\n",
    "            for(i in 2:accuracy){\n",
    "                QR <- QRDecomp(A)\n",
    "                Q <- Q*QR[[1]]\n",
    "                A <- QR[[2]]%*%QR[[1]]\n",
    "            }\n",
    "        }\n",
    "        return(diag(A))\n",
    "    }\n",
    "    dimM = dim(M)[1]\n",
    "    eigen_values <- eigen_v(M, 10)\n",
    "    eigen_vectors <- matrix(0, ncol=dimM, nrow=dimM)\n",
    "\n",
    "    \n",
    "\n",
    "    for(i in 1:dimM){\n",
    "        print(t(M-eigen_values[i]*diag(dimM))%*%c(0,0))\n",
    "    }\n",
    "    return(list(\"eigen_values\"=eigen_values, \"eigen_vectors\"=eigen_vectors))\n",
    "}"
   ]
  },
  {
   "cell_type": "code",
   "execution_count": 75,
   "metadata": {},
   "outputs": [
    {
     "data": {
      "text/html": [
       "<table>\n",
       "<tbody>\n",
       "\t<tr><td>1</td><td>2</td></tr>\n",
       "\t<tr><td>3</td><td>4</td></tr>\n",
       "</tbody>\n",
       "</table>\n"
      ],
      "text/latex": [
       "\\begin{tabular}{ll}\n",
       "\t 1 & 2\\\\\n",
       "\t 3 & 4\\\\\n",
       "\\end{tabular}\n"
      ],
      "text/markdown": [
       "\n",
       "| 1 | 2 |\n",
       "| 3 | 4 |\n",
       "\n"
      ],
      "text/plain": [
       "     [,1] [,2]\n",
       "[1,] 1    2   \n",
       "[2,] 3    4   "
      ]
     },
     "metadata": {},
     "output_type": "display_data"
    },
    {
     "data": {
      "text/html": [
       "<table>\n",
       "<tbody>\n",
       "\t<tr><td>1</td><td>3</td></tr>\n",
       "\t<tr><td>2</td><td>4</td></tr>\n",
       "</tbody>\n",
       "</table>\n"
      ],
      "text/latex": [
       "\\begin{tabular}{ll}\n",
       "\t 1 & 3\\\\\n",
       "\t 2 & 4\\\\\n",
       "\\end{tabular}\n"
      ],
      "text/markdown": [
       "\n",
       "| 1 | 3 |\n",
       "| 2 | 4 |\n",
       "\n"
      ],
      "text/plain": [
       "     [,1] [,2]\n",
       "[1,] 1    3   \n",
       "[2,] 2    4   "
      ]
     },
     "metadata": {},
     "output_type": "display_data"
    },
    {
     "name": "stdout",
     "output_type": "stream",
     "text": [
      "     [,1]\n",
      "[1,]    0\n",
      "[2,]    0\n",
      "     [,1]\n",
      "[1,]    0\n",
      "[2,]    0\n"
     ]
    },
    {
     "data": {
      "text/html": [
       "<dl>\n",
       "\t<dt>$eigen_values</dt>\n",
       "\t\t<dd><ol class=list-inline>\n",
       "\t<li>5.37228132327306</li>\n",
       "\t<li>-0.372281323273058</li>\n",
       "</ol>\n",
       "</dd>\n",
       "\t<dt>$eigen_vectors</dt>\n",
       "\t\t<dd><table>\n",
       "<tbody>\n",
       "\t<tr><td>0</td><td>0</td></tr>\n",
       "\t<tr><td>0</td><td>0</td></tr>\n",
       "</tbody>\n",
       "</table>\n",
       "</dd>\n",
       "</dl>\n"
      ],
      "text/latex": [
       "\\begin{description}\n",
       "\\item[\\$eigen\\_values] \\begin{enumerate*}\n",
       "\\item 5.37228132327306\n",
       "\\item -0.372281323273058\n",
       "\\end{enumerate*}\n",
       "\n",
       "\\item[\\$eigen\\_vectors] \\begin{tabular}{ll}\n",
       "\t 0 & 0\\\\\n",
       "\t 0 & 0\\\\\n",
       "\\end{tabular}\n",
       "\n",
       "\\end{description}\n"
      ],
      "text/markdown": [
       "$eigen_values\n",
       ":   1. 5.37228132327306\n",
       "2. -0.372281323273058\n",
       "\n",
       "\n",
       "\n",
       "$eigen_vectors\n",
       ":   \n",
       "| 0 | 0 |\n",
       "| 0 | 0 |\n",
       "\n",
       "\n",
       "\n",
       "\n"
      ],
      "text/plain": [
       "$eigen_values\n",
       "[1]  5.3722813 -0.3722813\n",
       "\n",
       "$eigen_vectors\n",
       "     [,1] [,2]\n",
       "[1,]    0    0\n",
       "[2,]    0    0\n"
      ]
     },
     "metadata": {},
     "output_type": "display_data"
    }
   ],
   "source": [
    "A <- matrix(rep(1), ncol= 2, nrow=2)\n",
    "A[1,1] <- 1\n",
    "A[1,2] <- 2\n",
    "A[2,1] <- 3\n",
    "A[2,2] <- 4\n",
    "A\n",
    "t(A)\n",
    "eigen_function(A)"
   ]
  },
  {
   "cell_type": "code",
   "execution_count": 19,
   "metadata": {},
   "outputs": [
    {
     "data": {
      "text/plain": [
       "eigen() decomposition\n",
       "$values\n",
       "[1]  5.3722813 -0.3722813\n",
       "\n",
       "$vectors\n",
       "           [,1]       [,2]\n",
       "[1,] -0.4159736 -0.8245648\n",
       "[2,] -0.9093767  0.5657675\n"
      ]
     },
     "metadata": {},
     "output_type": "display_data"
    }
   ],
   "source": [
    "eigen(A)"
   ]
  },
  {
   "cell_type": "code",
   "execution_count": null,
   "metadata": {},
   "outputs": [],
   "source": []
  }
 ],
 "metadata": {
  "kernelspec": {
   "display_name": "R",
   "language": "R",
   "name": "ir"
  },
  "language_info": {
   "codemirror_mode": "r",
   "file_extension": ".r",
   "mimetype": "text/x-r-source",
   "name": "R",
   "pygments_lexer": "r",
   "version": "3.6.1"
  }
 },
 "nbformat": 4,
 "nbformat_minor": 2
}
