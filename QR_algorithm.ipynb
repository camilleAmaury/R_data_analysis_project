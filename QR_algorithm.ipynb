{
 "cells": [
  {
   "cell_type": "code",
   "execution_count": 3,
   "metadata": {},
   "outputs": [],
   "source": [
    "qr_decomp <- function(A){\n",
    "    householder_decomp <- function(A){\n",
    "        signe_inv <- function(x, y){\n",
    "            return(if(x < 0) y else -y)\n",
    "        }\n",
    "        # x = colonne 1 de A\n",
    "        x <- A[,1]\n",
    "        # e = vecteur de taille x possédant des 0 sauf sur le premier élément un 1\n",
    "        e <- c(1, rep(0, length(x)-1))\n",
    "        # e = inverse du signe du premier élément de x * norme(x) * e\n",
    "        alpha <- signe_inv(x[1],e * sqrt(sum(x**2)))\n",
    "        # u = x + alpha\n",
    "        u <- x + alpha\n",
    "        # v = u / norme(u)\n",
    "        v <- u / sqrt(sum(u**2))\n",
    "        # Q = Identité - 2*v%*%t(v)\n",
    "        H <- diag(length(v)) - 2*v%*%t(v)\n",
    "        return(list(\"R\"=H%*%A, \"H\"=H))\n",
    "    }\n",
    "    dim_ini <- dim(A)[1]\n",
    "    H_cumul <- diag(dim_ini)\n",
    "    Q <- diag(dim_ini)\n",
    "    print(m)\n",
    "    R_final <- matrix(0, nrow=3, ncol=3)\n",
    "    for(j in 1:20){\n",
    "        H_cumul <- diag(dim_ini)\n",
    "        R_final <- matrix(0, nrow=dim_ini, ncol=dim_ini)\n",
    "        for(i in 1:(dim_ini-1)){\n",
    "            res <- householder_decomp(A[(1+i-1):dim_ini, (1+i-1):dim_ini])\n",
    "            A <- res[[\"R\"]]\n",
    "            H_temp <- diag(dim_ini) \n",
    "            H_temp[(1+i-1):dim_ini, (1+i-1):dim_ini] <- res[[\"H\"]]\n",
    "            H_cumul = H_temp %*% H_cumul \n",
    "            R_final[(1+i-1):dim_ini, (1+i-1):dim_ini] <- A\n",
    "        }\n",
    "        Q <- Q%*%t(H_cumul)\n",
    "        A <- R_final%*%t(H_cumul)\n",
    "    }\n",
    "    return(list(\"values\"=diag(round(A,6)), \"vectors\"=round(Q,6)))\n",
    "}"
   ]
  },
  {
   "cell_type": "code",
   "execution_count": null,
   "metadata": {},
   "outputs": [],
   "source": []
  }
 ],
 "metadata": {
  "kernelspec": {
   "display_name": "R",
   "language": "R",
   "name": "ir"
  },
  "language_info": {
   "codemirror_mode": "r",
   "file_extension": ".r",
   "mimetype": "text/x-r-source",
   "name": "R",
   "pygments_lexer": "r",
   "version": "3.6.1"
  }
 },
 "nbformat": 4,
 "nbformat_minor": 2
}
